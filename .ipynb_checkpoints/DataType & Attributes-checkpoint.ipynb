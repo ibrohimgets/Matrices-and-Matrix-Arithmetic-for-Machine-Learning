{
 "cells": [
  {
   "cell_type": "code",
   "execution_count": 7,
   "id": "bf72bdb9-3c0d-4b1f-8a35-7b1edba5de75",
   "metadata": {},
   "outputs": [],
   "source": [
    "import numpy as np "
   ]
  },
  {
   "cell_type": "markdown",
   "id": "3bceeb7a-29bc-4818-bf6a-84c608c4b3f5",
   "metadata": {},
   "source": [
    "# DataType & Attributes"
   ]
  },
  {
   "cell_type": "code",
   "execution_count": 8,
   "id": "c2ec51f1-2c20-4898-8748-c5b7eb9aa048",
   "metadata": {},
   "outputs": [
    {
     "data": {
      "text/plain": [
       "array([1, 2, 3, 4, 5, 6, 7])"
      ]
     },
     "execution_count": 8,
     "metadata": {},
     "output_type": "execute_result"
    }
   ],
   "source": [
    "al = np.array([1,2,3,4,5,6,7])\n",
    "al"
   ]
  },
  {
   "cell_type": "code",
   "execution_count": 9,
   "id": "5b41115f-df6d-49db-8b2a-1cb11da0efba",
   "metadata": {},
   "outputs": [
    {
     "data": {
      "text/plain": [
       "numpy.ndarray"
      ]
     },
     "execution_count": 9,
     "metadata": {},
     "output_type": "execute_result"
    }
   ],
   "source": [
    "type(al)"
   ]
  },
  {
   "cell_type": "code",
   "execution_count": 10,
   "id": "2331765e-563a-49c7-9251-a1954a58c106",
   "metadata": {},
   "outputs": [],
   "source": [
    "a2 = np.array([[1,2,3,4.5], [5,6,787,8]])"
   ]
  },
  {
   "cell_type": "code",
   "execution_count": 11,
   "id": "e807eb01-3a5b-48d1-98ec-43e016c9d128",
   "metadata": {},
   "outputs": [
    {
     "data": {
      "text/plain": [
       "array([[  1. ,   2. ,   3. ,   4.5],\n",
       "       [  5. ,   6. , 787. ,   8. ]])"
      ]
     },
     "execution_count": 11,
     "metadata": {},
     "output_type": "execute_result"
    }
   ],
   "source": [
    "a2"
   ]
  },
  {
   "cell_type": "code",
   "execution_count": 12,
   "id": "8fdfd431-4d04-4167-a8d4-eb27233936b6",
   "metadata": {},
   "outputs": [
    {
     "data": {
      "text/plain": [
       "array([[[  1.   ,   2.   ,   3.   ,   4.   ,   5.   ,   6.   ],\n",
       "        [  2.2  ,  34.   ,   5.   ,   6.   ,  78.   ,  98.   ],\n",
       "        [  2.   ,   4.   ,   5.   ,   8.   ,   2.   ,   5.552],\n",
       "        [  1.   ,   2.   ,   3.   ,   4.   ,   5.   ,   6.   ],\n",
       "        [ 23.2  , 334.   ,   5.   ,   6.   , 728.   ,  98.   ],\n",
       "        [  2.   ,   4.   ,   5.   ,  48.   ,  32.   ,   5.552]]])"
      ]
     },
     "execution_count": 12,
     "metadata": {},
     "output_type": "execute_result"
    }
   ],
   "source": [
    "a3 = np.array([[\n",
    "                [1, 2, 3, 4, 5, 6], \n",
    "                [2.2, 34, 5, 6, 78, 98], \n",
    "                [2, 4, 5, 8, 2, 5.552],\n",
    "                \n",
    "                [1, 2, 3, 4, 5, 6], \n",
    "                [23.2, 334, 5, 6, 728, 98], \n",
    "                [2, 4, 5, 48,32, 5.552],\n",
    "    \n",
    "               ]])\n",
    "a3"
   ]
  },
  {
   "cell_type": "code",
   "execution_count": 13,
   "id": "12708d63-2e32-4428-bdeb-f3f484ee1707",
   "metadata": {},
   "outputs": [
    {
     "data": {
      "text/plain": [
       "(7,)"
      ]
     },
     "execution_count": 13,
     "metadata": {},
     "output_type": "execute_result"
    }
   ],
   "source": [
    "al.shape"
   ]
  },
  {
   "cell_type": "code",
   "execution_count": 14,
   "id": "5234005a-e1ea-408b-9ea9-e48c1f52e990",
   "metadata": {},
   "outputs": [
    {
     "data": {
      "text/plain": [
       "(2, 4)"
      ]
     },
     "execution_count": 14,
     "metadata": {},
     "output_type": "execute_result"
    }
   ],
   "source": [
    "a2.shape"
   ]
  },
  {
   "cell_type": "code",
   "execution_count": 15,
   "id": "da084820-5212-4a66-b651-6b8cb5d5208d",
   "metadata": {},
   "outputs": [
    {
     "data": {
      "text/plain": [
       "(1, 6, 6)"
      ]
     },
     "execution_count": 15,
     "metadata": {},
     "output_type": "execute_result"
    }
   ],
   "source": [
    "a3.shape"
   ]
  },
  {
   "cell_type": "code",
   "execution_count": 16,
   "id": "62f4d59e-045c-4c71-8a27-8dd01216bb1b",
   "metadata": {},
   "outputs": [
    {
     "data": {
      "text/plain": [
       "1"
      ]
     },
     "execution_count": 16,
     "metadata": {},
     "output_type": "execute_result"
    }
   ],
   "source": [
    "al.ndim"
   ]
  },
  {
   "cell_type": "code",
   "execution_count": 17,
   "id": "aa326bcb-041d-4924-90d1-2bee35dac451",
   "metadata": {},
   "outputs": [
    {
     "data": {
      "text/plain": [
       "2"
      ]
     },
     "execution_count": 17,
     "metadata": {},
     "output_type": "execute_result"
    }
   ],
   "source": [
    "a2.ndim"
   ]
  },
  {
   "cell_type": "code",
   "execution_count": 18,
   "id": "a07831a0-511c-45c9-a702-e5d8afa1c437",
   "metadata": {},
   "outputs": [
    {
     "data": {
      "text/plain": [
       "3"
      ]
     },
     "execution_count": 18,
     "metadata": {},
     "output_type": "execute_result"
    }
   ],
   "source": [
    "a3.ndim"
   ]
  },
  {
   "cell_type": "code",
   "execution_count": 19,
   "id": "7551ae0b-7b68-47de-8fbb-e51f20d5d243",
   "metadata": {},
   "outputs": [
    {
     "data": {
      "text/plain": [
       "(1, 2, 3)"
      ]
     },
     "execution_count": 19,
     "metadata": {},
     "output_type": "execute_result"
    }
   ],
   "source": [
    "al.ndim , a2.ndim, a3.ndim"
   ]
  },
  {
   "cell_type": "code",
   "execution_count": 20,
   "id": "df573e3e-20e2-45d0-9e01-c2940775c599",
   "metadata": {},
   "outputs": [
    {
     "data": {
      "text/plain": [
       "(dtype('int64'), dtype('float64'), dtype('float64'))"
      ]
     },
     "execution_count": 20,
     "metadata": {},
     "output_type": "execute_result"
    }
   ],
   "source": [
    "al.dtype, a2.dtype, a3.dtype"
   ]
  },
  {
   "cell_type": "code",
   "execution_count": 21,
   "id": "7bfcb8f0-c8ce-43dd-8a8c-fa9192acecef",
   "metadata": {},
   "outputs": [
    {
     "data": {
      "text/plain": [
       "(7, 8, 36)"
      ]
     },
     "execution_count": 21,
     "metadata": {},
     "output_type": "execute_result"
    }
   ],
   "source": [
    "al.size, a2.size, a3.size"
   ]
  },
  {
   "cell_type": "code",
   "execution_count": 22,
   "id": "ddcd92cb-eaf9-497f-aac0-0667df4bd0a7",
   "metadata": {},
   "outputs": [
    {
     "data": {
      "text/plain": [
       "(numpy.ndarray, numpy.ndarray, numpy.ndarray)"
      ]
     },
     "execution_count": 22,
     "metadata": {},
     "output_type": "execute_result"
    }
   ],
   "source": [
    "type(al), type(a2), type(a3)"
   ]
  },
  {
   "cell_type": "markdown",
   "id": "bd1066a0-4cc9-4df4-9fa0-57e0da1234a9",
   "metadata": {},
   "source": [
    "# create a data frame from numpy array using pandas"
   ]
  },
  {
   "cell_type": "code",
   "execution_count": 23,
   "id": "dffc9018-b7eb-4194-acc9-9cb3d985f4d6",
   "metadata": {},
   "outputs": [
    {
     "data": {
      "text/html": [
       "<div>\n",
       "<style scoped>\n",
       "    .dataframe tbody tr th:only-of-type {\n",
       "        vertical-align: middle;\n",
       "    }\n",
       "\n",
       "    .dataframe tbody tr th {\n",
       "        vertical-align: top;\n",
       "    }\n",
       "\n",
       "    .dataframe thead th {\n",
       "        text-align: right;\n",
       "    }\n",
       "</style>\n",
       "<table border=\"1\" class=\"dataframe\">\n",
       "  <thead>\n",
       "    <tr style=\"text-align: right;\">\n",
       "      <th></th>\n",
       "      <th>0</th>\n",
       "      <th>1</th>\n",
       "      <th>2</th>\n",
       "      <th>3</th>\n",
       "    </tr>\n",
       "  </thead>\n",
       "  <tbody>\n",
       "    <tr>\n",
       "      <th>0</th>\n",
       "      <td>1.0</td>\n",
       "      <td>2.0</td>\n",
       "      <td>3.0</td>\n",
       "      <td>4.5</td>\n",
       "    </tr>\n",
       "    <tr>\n",
       "      <th>1</th>\n",
       "      <td>5.0</td>\n",
       "      <td>6.0</td>\n",
       "      <td>787.0</td>\n",
       "      <td>8.0</td>\n",
       "    </tr>\n",
       "  </tbody>\n",
       "</table>\n",
       "</div>"
      ],
      "text/plain": [
       "     0    1      2    3\n",
       "0  1.0  2.0    3.0  4.5\n",
       "1  5.0  6.0  787.0  8.0"
      ]
     },
     "execution_count": 23,
     "metadata": {},
     "output_type": "execute_result"
    }
   ],
   "source": [
    "import pandas as pd\n",
    "df = pd.DataFrame(a2)\n",
    "df"
   ]
  },
  {
   "cell_type": "markdown",
   "id": "488f6bc0-4c15-46d1-bfa4-440d4b3f20d6",
   "metadata": {},
   "source": [
    "# Create arrays"
   ]
  },
  {
   "cell_type": "code",
   "execution_count": 24,
   "id": "e387d759-ed80-4e93-8343-99ad0830a9b5",
   "metadata": {},
   "outputs": [
    {
     "data": {
      "text/plain": [
       "array([1, 2, 3])"
      ]
     },
     "execution_count": 24,
     "metadata": {},
     "output_type": "execute_result"
    }
   ],
   "source": [
    "sample_arrays = np.array([1,2,3])\n",
    "sample_arrays"
   ]
  },
  {
   "cell_type": "code",
   "execution_count": 25,
   "id": "b6c26bec-b548-4531-9bec-1e3c2db78530",
   "metadata": {},
   "outputs": [
    {
     "data": {
      "text/plain": [
       "dtype('int64')"
      ]
     },
     "execution_count": 25,
     "metadata": {},
     "output_type": "execute_result"
    }
   ],
   "source": [
    "sample_arrays.dtype"
   ]
  },
  {
   "cell_type": "code",
   "execution_count": 26,
   "id": "3ec5a023-7b47-4a9e-8d2b-e66de439a1aa",
   "metadata": {},
   "outputs": [],
   "source": [
    "ones = np.ones((2,3))"
   ]
  },
  {
   "cell_type": "code",
   "execution_count": 27,
   "id": "625ca288-819c-49f1-b567-986303c4da6a",
   "metadata": {},
   "outputs": [
    {
     "data": {
      "text/plain": [
       "array([[1., 1., 1.],\n",
       "       [1., 1., 1.]])"
      ]
     },
     "execution_count": 27,
     "metadata": {},
     "output_type": "execute_result"
    }
   ],
   "source": [
    "ones"
   ]
  },
  {
   "cell_type": "code",
   "execution_count": 28,
   "id": "722492a5-a229-48db-a280-76dde14c12d2",
   "metadata": {},
   "outputs": [
    {
     "data": {
      "text/plain": [
       "dtype('float64')"
      ]
     },
     "execution_count": 28,
     "metadata": {},
     "output_type": "execute_result"
    }
   ],
   "source": [
    "ones.dtype"
   ]
  },
  {
   "cell_type": "code",
   "execution_count": 29,
   "id": "f872ee44-72fc-4b21-8cbf-31d057760af1",
   "metadata": {},
   "outputs": [
    {
     "data": {
      "text/plain": [
       "numpy.ndarray"
      ]
     },
     "execution_count": 29,
     "metadata": {},
     "output_type": "execute_result"
    }
   ],
   "source": [
    "type(ones)"
   ]
  },
  {
   "cell_type": "code",
   "execution_count": 30,
   "id": "9fa4c1ab-5fc9-42dd-a3b6-88d6d9754179",
   "metadata": {},
   "outputs": [
    {
     "data": {
      "text/plain": [
       "array([[0., 0., 0.],\n",
       "       [0., 0., 0.]])"
      ]
     },
     "execution_count": 30,
     "metadata": {},
     "output_type": "execute_result"
    }
   ],
   "source": [
    "zeros = np.zeros((2,3))\n",
    "zeros"
   ]
  },
  {
   "cell_type": "code",
   "execution_count": 31,
   "id": "410f4b46-e846-4373-87b4-533892b7f2b6",
   "metadata": {},
   "outputs": [
    {
     "data": {
      "text/plain": [
       "array([0, 2, 4, 6, 8])"
      ]
     },
     "execution_count": 31,
     "metadata": {},
     "output_type": "execute_result"
    }
   ],
   "source": [
    "range_array = np.arange(0, 10, 2)\n",
    "range_array"
   ]
  },
  {
   "cell_type": "code",
   "execution_count": 32,
   "id": "a9cf6199-28d7-4017-8840-facd39127356",
   "metadata": {},
   "outputs": [
    {
     "data": {
      "text/plain": [
       "array([[5, 6, 5, 1, 7],\n",
       "       [1, 1, 0, 6, 4],\n",
       "       [5, 2, 1, 0, 2]], dtype=int32)"
      ]
     },
     "execution_count": 32,
     "metadata": {},
     "output_type": "execute_result"
    }
   ],
   "source": [
    "random_array = np.random.randint(0, 10, size=(3,5))\n",
    "random_array"
   ]
  },
  {
   "cell_type": "code",
   "execution_count": 33,
   "id": "7ed85b29-3e8d-4b0b-b6b5-e53ca83cd784",
   "metadata": {},
   "outputs": [
    {
     "data": {
      "text/plain": [
       "15"
      ]
     },
     "execution_count": 33,
     "metadata": {},
     "output_type": "execute_result"
    }
   ],
   "source": [
    "random_array.size"
   ]
  },
  {
   "cell_type": "code",
   "execution_count": 34,
   "id": "cd68879f-86ef-4025-99a9-e056d2bd8f97",
   "metadata": {},
   "outputs": [],
   "source": [
    "random_array_two = np.random.random((5,3))"
   ]
  },
  {
   "cell_type": "code",
   "execution_count": 35,
   "id": "631e520c-0ca7-4cac-8285-5b970aa5f58f",
   "metadata": {},
   "outputs": [
    {
     "data": {
      "text/plain": [
       "array([[0.76495963, 0.0149103 , 0.53130302],\n",
       "       [0.3621701 , 0.88265486, 0.47556386],\n",
       "       [0.89691923, 0.77886684, 0.32442254],\n",
       "       [0.02486492, 0.80037751, 0.6861864 ],\n",
       "       [0.41554305, 0.55518684, 0.36332517]])"
      ]
     },
     "execution_count": 35,
     "metadata": {},
     "output_type": "execute_result"
    }
   ],
   "source": [
    "random_array_two"
   ]
  },
  {
   "cell_type": "code",
   "execution_count": 36,
   "id": "42ddb13c-d901-4d2a-9959-fffb5abc42ff",
   "metadata": {},
   "outputs": [
    {
     "data": {
      "text/plain": [
       "(5, 3)"
      ]
     },
     "execution_count": 36,
     "metadata": {},
     "output_type": "execute_result"
    }
   ],
   "source": [
    "random_array_two.shape"
   ]
  },
  {
   "cell_type": "code",
   "execution_count": 37,
   "id": "76c0a323-088c-44eb-8078-42c96bba5262",
   "metadata": {},
   "outputs": [
    {
     "data": {
      "text/plain": [
       "array([[[0.90830184, 0.96051615, 0.16500652],\n",
       "        [0.38632714, 0.40553139, 0.93971733],\n",
       "        [0.98474961, 0.89019309, 0.42305552]],\n",
       "\n",
       "       [[0.16182419, 0.09435563, 0.17086683],\n",
       "        [0.66552555, 0.98309221, 0.24606225],\n",
       "        [0.30196028, 0.31025968, 0.60254133]],\n",
       "\n",
       "       [[0.10284673, 0.34754351, 0.11881129],\n",
       "        [0.13715661, 0.51175275, 0.01900405],\n",
       "        [0.27430022, 0.65196928, 0.48854175]],\n",
       "\n",
       "       [[0.5263223 , 0.05021468, 0.30517335],\n",
       "        [0.27009409, 0.48930863, 0.63378366],\n",
       "        [0.29993904, 0.39911945, 0.06831968]],\n",
       "\n",
       "       [[0.16539569, 0.18856387, 0.75684434],\n",
       "        [0.43686461, 0.63229919, 0.91543918],\n",
       "        [0.68769579, 0.01722666, 0.59174981]]])"
      ]
     },
     "execution_count": 37,
     "metadata": {},
     "output_type": "execute_result"
    }
   ],
   "source": [
    "random_array_three = np.random.random((5,3, 3))\n",
    "random_array_three"
   ]
  },
  {
   "cell_type": "code",
   "execution_count": 38,
   "id": "69747f66-63bb-41d1-bf14-b8c0d9d552fc",
   "metadata": {},
   "outputs": [
    {
     "data": {
      "text/plain": [
       "array([6, 0, 8, 0, 1, 7, 8, 4, 6], dtype=int32)"
      ]
     },
     "execution_count": 38,
     "metadata": {},
     "output_type": "execute_result"
    }
   ],
   "source": [
    "next_random = np.random.randint(0,10, 9)\n",
    "next_random"
   ]
  },
  {
   "cell_type": "code",
   "execution_count": 39,
   "id": "553ffc3b-05cc-4f80-984e-5a459bb80409",
   "metadata": {},
   "outputs": [
    {
     "data": {
      "text/plain": [
       "array([0, 2, 4, 6, 8])"
      ]
     },
     "execution_count": 39,
     "metadata": {},
     "output_type": "execute_result"
    }
   ],
   "source": [
    "next_range = np.arange(0,10,2)\n",
    "next_range"
   ]
  },
  {
   "cell_type": "code",
   "execution_count": 40,
   "id": "b4507bd7-5a09-4f7a-855d-1955c03ed246",
   "metadata": {},
   "outputs": [
    {
     "data": {
      "text/html": [
       "<div>\n",
       "<style scoped>\n",
       "    .dataframe tbody tr th:only-of-type {\n",
       "        vertical-align: middle;\n",
       "    }\n",
       "\n",
       "    .dataframe tbody tr th {\n",
       "        vertical-align: top;\n",
       "    }\n",
       "\n",
       "    .dataframe thead th {\n",
       "        text-align: right;\n",
       "    }\n",
       "</style>\n",
       "<table border=\"1\" class=\"dataframe\">\n",
       "  <thead>\n",
       "    <tr style=\"text-align: right;\">\n",
       "      <th></th>\n",
       "      <th>0</th>\n",
       "    </tr>\n",
       "  </thead>\n",
       "  <tbody>\n",
       "    <tr>\n",
       "      <th>0</th>\n",
       "      <td>6</td>\n",
       "    </tr>\n",
       "    <tr>\n",
       "      <th>1</th>\n",
       "      <td>0</td>\n",
       "    </tr>\n",
       "    <tr>\n",
       "      <th>2</th>\n",
       "      <td>8</td>\n",
       "    </tr>\n",
       "    <tr>\n",
       "      <th>3</th>\n",
       "      <td>0</td>\n",
       "    </tr>\n",
       "    <tr>\n",
       "      <th>4</th>\n",
       "      <td>1</td>\n",
       "    </tr>\n",
       "    <tr>\n",
       "      <th>5</th>\n",
       "      <td>7</td>\n",
       "    </tr>\n",
       "    <tr>\n",
       "      <th>6</th>\n",
       "      <td>8</td>\n",
       "    </tr>\n",
       "    <tr>\n",
       "      <th>7</th>\n",
       "      <td>4</td>\n",
       "    </tr>\n",
       "    <tr>\n",
       "      <th>8</th>\n",
       "      <td>6</td>\n",
       "    </tr>\n",
       "  </tbody>\n",
       "</table>\n",
       "</div>"
      ],
      "text/plain": [
       "   0\n",
       "0  6\n",
       "1  0\n",
       "2  8\n",
       "3  0\n",
       "4  1\n",
       "5  7\n",
       "6  8\n",
       "7  4\n",
       "8  6"
      ]
     },
     "execution_count": 40,
     "metadata": {},
     "output_type": "execute_result"
    }
   ],
   "source": [
    "make_new_array = pd.DataFrame(next_random)\n",
    "make_new_array"
   ]
  },
  {
   "cell_type": "code",
   "execution_count": 45,
   "id": "e93d3b0b-3dad-4119-b952-6f0b2e354fe1",
   "metadata": {},
   "outputs": [
    {
     "data": {
      "text/plain": [
       "array([[[  1. ,   2. ,   3. ,   4.5],\n",
       "        [  5. ,   6. , 787. ,   8. ]]])"
      ]
     },
     "execution_count": 45,
     "metadata": {},
     "output_type": "execute_result"
    }
   ],
   "source": [
    "new_one = np.array([a2])\n",
    "new_one"
   ]
  },
  {
   "cell_type": "code",
   "execution_count": 63,
   "id": "7418c11f-11f9-4152-b8e1-923f2e41c000",
   "metadata": {},
   "outputs": [
    {
     "data": {
      "text/plain": [
       "array([[[0.08829812, 0.04502053, 0.28736503],\n",
       "        [0.69220823, 0.67363439, 0.24251235]]])"
      ]
     },
     "execution_count": 63,
     "metadata": {},
     "output_type": "execute_result"
    }
   ],
   "source": [
    "new_random = np.random.random([1,2,3])\n",
    "new_random"
   ]
  },
  {
   "cell_type": "code",
   "execution_count": 67,
   "id": "ee4e5b59-fd2b-4a93-8cdf-492e2aedbf88",
   "metadata": {},
   "outputs": [
    {
     "data": {
      "text/plain": [
       "array([[  1. ,   2. ,   3. ,   4.5],\n",
       "       [  5. ,   6. , 787. ,   8. ]])"
      ]
     },
     "execution_count": 67,
     "metadata": {},
     "output_type": "execute_result"
    }
   ],
   "source": [
    "a2"
   ]
  },
  {
   "cell_type": "code",
   "execution_count": 68,
   "id": "2cc0bba1-bc8b-4a25-b63c-6e58436a4773",
   "metadata": {},
   "outputs": [
    {
     "data": {
      "text/plain": [
       "array([[[0.90830184, 0.96051615, 0.16500652],\n",
       "        [0.38632714, 0.40553139, 0.93971733],\n",
       "        [0.98474961, 0.89019309, 0.42305552]],\n",
       "\n",
       "       [[0.16182419, 0.09435563, 0.17086683],\n",
       "        [0.66552555, 0.98309221, 0.24606225],\n",
       "        [0.30196028, 0.31025968, 0.60254133]],\n",
       "\n",
       "       [[0.10284673, 0.34754351, 0.11881129],\n",
       "        [0.13715661, 0.51175275, 0.01900405],\n",
       "        [0.27430022, 0.65196928, 0.48854175]],\n",
       "\n",
       "       [[0.5263223 , 0.05021468, 0.30517335],\n",
       "        [0.27009409, 0.48930863, 0.63378366],\n",
       "        [0.29993904, 0.39911945, 0.06831968]],\n",
       "\n",
       "       [[0.16539569, 0.18856387, 0.75684434],\n",
       "        [0.43686461, 0.63229919, 0.91543918],\n",
       "        [0.68769579, 0.01722666, 0.59174981]]])"
      ]
     },
     "execution_count": 68,
     "metadata": {},
     "output_type": "execute_result"
    }
   ],
   "source": [
    "random_array_three"
   ]
  },
  {
   "cell_type": "code",
   "execution_count": 70,
   "id": "1b7c96bf-9d49-454d-bb2f-b2e49c140fa3",
   "metadata": {},
   "outputs": [
    {
     "data": {
      "text/plain": [
       "array([[0.76495963, 0.0149103 , 0.53130302],\n",
       "       [0.3621701 , 0.88265486, 0.47556386],\n",
       "       [0.89691923, 0.77886684, 0.32442254],\n",
       "       [0.02486492, 0.80037751, 0.6861864 ],\n",
       "       [0.41554305, 0.55518684, 0.36332517]])"
      ]
     },
     "execution_count": 70,
     "metadata": {},
     "output_type": "execute_result"
    }
   ],
   "source": [
    "random_array_two"
   ]
  },
  {
   "cell_type": "code",
   "execution_count": 71,
   "id": "de1f56df-fe91-4b41-8481-7acf2b875166",
   "metadata": {},
   "outputs": [
    {
     "data": {
      "text/html": [
       "<div>\n",
       "<style scoped>\n",
       "    .dataframe tbody tr th:only-of-type {\n",
       "        vertical-align: middle;\n",
       "    }\n",
       "\n",
       "    .dataframe tbody tr th {\n",
       "        vertical-align: top;\n",
       "    }\n",
       "\n",
       "    .dataframe thead th {\n",
       "        text-align: right;\n",
       "    }\n",
       "</style>\n",
       "<table border=\"1\" class=\"dataframe\">\n",
       "  <thead>\n",
       "    <tr style=\"text-align: right;\">\n",
       "      <th></th>\n",
       "      <th>0</th>\n",
       "      <th>1</th>\n",
       "      <th>2</th>\n",
       "    </tr>\n",
       "  </thead>\n",
       "  <tbody>\n",
       "    <tr>\n",
       "      <th>0</th>\n",
       "      <td>0.764960</td>\n",
       "      <td>0.014910</td>\n",
       "      <td>0.531303</td>\n",
       "    </tr>\n",
       "    <tr>\n",
       "      <th>1</th>\n",
       "      <td>0.362170</td>\n",
       "      <td>0.882655</td>\n",
       "      <td>0.475564</td>\n",
       "    </tr>\n",
       "    <tr>\n",
       "      <th>2</th>\n",
       "      <td>0.896919</td>\n",
       "      <td>0.778867</td>\n",
       "      <td>0.324423</td>\n",
       "    </tr>\n",
       "    <tr>\n",
       "      <th>3</th>\n",
       "      <td>0.024865</td>\n",
       "      <td>0.800378</td>\n",
       "      <td>0.686186</td>\n",
       "    </tr>\n",
       "    <tr>\n",
       "      <th>4</th>\n",
       "      <td>0.415543</td>\n",
       "      <td>0.555187</td>\n",
       "      <td>0.363325</td>\n",
       "    </tr>\n",
       "  </tbody>\n",
       "</table>\n",
       "</div>"
      ],
      "text/plain": [
       "          0         1         2\n",
       "0  0.764960  0.014910  0.531303\n",
       "1  0.362170  0.882655  0.475564\n",
       "2  0.896919  0.778867  0.324423\n",
       "3  0.024865  0.800378  0.686186\n",
       "4  0.415543  0.555187  0.363325"
      ]
     },
     "execution_count": 71,
     "metadata": {},
     "output_type": "execute_result"
    }
   ],
   "source": [
    "new_panda = pd.DataFrame(random_array_two)\n",
    "new_panda"
   ]
  },
  {
   "cell_type": "code",
   "execution_count": 73,
   "id": "2f99969e-de3d-4f35-bcf8-45d3f01be9aa",
   "metadata": {},
   "outputs": [
    {
     "data": {
      "text/plain": [
       "0    0.014910\n",
       "1    0.882655\n",
       "2    0.778867\n",
       "3    0.800378\n",
       "4    0.555187\n",
       "Name: 1, dtype: float64"
      ]
     },
     "execution_count": 73,
     "metadata": {},
     "output_type": "execute_result"
    }
   ],
   "source": [
    "rule = new_panda[1]\n",
    "rule"
   ]
  },
  {
   "cell_type": "code",
   "execution_count": 84,
   "id": "c955d0e7-8f0a-45f5-871d-2b042b7dd89a",
   "metadata": {},
   "outputs": [
    {
     "data": {
      "text/plain": [
       "array([[0.95748218, 0.17630146, 0.75839691],\n",
       "       [0.42578263, 0.19981457, 0.08521094]])"
      ]
     },
     "execution_count": 84,
     "metadata": {},
     "output_type": "execute_result"
    }
   ],
   "source": [
    "new_random_numbers = np.random.rand(2,3)\n",
    "new_random_numbers"
   ]
  },
  {
   "cell_type": "markdown",
   "id": "e2d7df62-845d-4914-aca1-ee29760bb8e5",
   "metadata": {},
   "source": [
    "# Pseudo random numbers"
   ]
  },
  {
   "cell_type": "code",
   "execution_count": 116,
   "id": "461e0fb1-0d2a-4a75-b555-61e50d879462",
   "metadata": {},
   "outputs": [
    {
     "data": {
      "text/plain": [
       "array([[ 4,  9,  6,  3,  3],\n",
       "       [ 7,  7, 12,  9,  7],\n",
       "       [ 8,  9, 10, 10,  8],\n",
       "       [ 7,  6,  4,  0,  7],\n",
       "       [12,  0, 11,  7, 10]], dtype=int32)"
      ]
     },
     "execution_count": 116,
     "metadata": {},
     "output_type": "execute_result"
    }
   ],
   "source": [
    "np.random.seed(7)\n",
    "random_number_four = np.random.randint(14,size=(5,5))\n",
    "random_number_four"
   ]
  },
  {
   "cell_type": "code",
   "execution_count": 117,
   "id": "e8484c8d-c569-4333-b963-cfc89fbcf735",
   "metadata": {},
   "outputs": [
    {
     "data": {
      "text/plain": [
       "array([[ 4,  9,  6,  3,  3],\n",
       "       [ 7,  7, 12,  9,  7],\n",
       "       [ 8,  9, 10, 10,  8],\n",
       "       [ 7,  6,  4,  0,  7],\n",
       "       [12,  0, 11,  7, 10]], dtype=int32)"
      ]
     },
     "execution_count": 117,
     "metadata": {},
     "output_type": "execute_result"
    }
   ],
   "source": [
    "random_number_four"
   ]
  },
  {
   "cell_type": "code",
   "execution_count": 131,
   "id": "5ba12431-8112-4a14-a81f-6e2b9eefa5d0",
   "metadata": {},
   "outputs": [
    {
     "data": {
      "text/plain": [
       "array([[[0.47529221, 0.83405132]],\n",
       "\n",
       "       [[0.27660585, 0.72023588]]])"
      ]
     },
     "execution_count": 131,
     "metadata": {},
     "output_type": "execute_result"
    }
   ],
   "source": [
    "randiom_array_five = np.random.rand(2,1,2)\n",
    "randiom_array_five"
   ]
  },
  {
   "cell_type": "code",
   "execution_count": null,
   "id": "db34797c-d22a-4b7b-aa6f-778859dd6a22",
   "metadata": {},
   "outputs": [],
   "source": []
  }
 ],
 "metadata": {
  "kernelspec": {
   "display_name": "Python 3 (ipykernel)",
   "language": "python",
   "name": "python3"
  },
  "language_info": {
   "codemirror_mode": {
    "name": "ipython",
    "version": 3
   },
   "file_extension": ".py",
   "mimetype": "text/x-python",
   "name": "python",
   "nbconvert_exporter": "python",
   "pygments_lexer": "ipython3",
   "version": "3.12.4"
  }
 },
 "nbformat": 4,
 "nbformat_minor": 5
}
