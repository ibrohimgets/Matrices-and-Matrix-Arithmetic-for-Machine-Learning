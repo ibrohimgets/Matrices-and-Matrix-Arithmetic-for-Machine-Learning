{
 "cells": [
  {
   "cell_type": "code",
   "execution_count": 1,
   "id": "2a81c3a9-a0f9-4b3e-a526-a2b13f203ddf",
   "metadata": {},
   "outputs": [],
   "source": [
    "import pandas as pd\n",
    "import numpy as np"
   ]
  },
  {
   "cell_type": "code",
   "execution_count": 17,
   "id": "8a19523c-e567-4d1a-b317-1e08a5bab883",
   "metadata": {},
   "outputs": [
    {
     "data": {
      "text/plain": [
       "array([[2, 1, 7],\n",
       "       [0, 3, 5],\n",
       "       [5, 4, 9],\n",
       "       [6, 1, 7],\n",
       "       [9, 6, 5]], dtype=int32)"
      ]
     },
     "execution_count": 17,
     "metadata": {},
     "output_type": "execute_result"
    }
   ],
   "source": [
    "random_array_1 = np.random.randint(10, size=(5,3))\n",
    "random_array_1"
   ]
  },
  {
   "cell_type": "code",
   "execution_count": 18,
   "id": "cb9ac5c9-19f3-4f3a-8824-6078c688d991",
   "metadata": {},
   "outputs": [
    {
     "data": {
      "text/plain": [
       "array([0, 1, 2, 3, 4, 5, 6, 7, 9], dtype=int32)"
      ]
     },
     "execution_count": 18,
     "metadata": {},
     "output_type": "execute_result"
    }
   ],
   "source": [
    "np.unique(random_array_1)"
   ]
  },
  {
   "cell_type": "code",
   "execution_count": 99,
   "id": "b6785dd5-d4fc-47fc-8c6a-929bc0257197",
   "metadata": {},
   "outputs": [
    {
     "data": {
      "text/plain": [
       "array([1, 2, 3, 4, 5])"
      ]
     },
     "execution_count": 99,
     "metadata": {},
     "output_type": "execute_result"
    }
   ],
   "source": [
    "a1 = np.array([1,2,3,4,5])\n",
    "a1"
   ]
  },
  {
   "cell_type": "code",
   "execution_count": 31,
   "id": "24ff893b-d013-49a8-a56b-199ccdeaded5",
   "metadata": {},
   "outputs": [
    {
     "data": {
      "text/plain": [
       "array([[  1. ,   2. ,   3. ,   4.5],\n",
       "       [  5. ,   6. , 787. ,   8. ]])"
      ]
     },
     "execution_count": 31,
     "metadata": {},
     "output_type": "execute_result"
    }
   ],
   "source": [
    "a2 = np.array([[1,2,3,4.5], [5,6,787,8]])\n",
    "a2"
   ]
  },
  {
   "cell_type": "code",
   "execution_count": 49,
   "id": "8b0d6f22-d20a-4a33-a4ba-19aed62c541c",
   "metadata": {},
   "outputs": [
    {
     "data": {
      "text/plain": [
       "array([[[ 1,  2,  3,  4,  5,  6],\n",
       "        [ 7,  8,  9, 10, 11, 12],\n",
       "        [13, 14, 15, 16, 17, 18],\n",
       "        [19, 20, 21, 22, 23, 24],\n",
       "        [25, 26, 27, 28, 29, 30],\n",
       "        [31, 32, 33, 34, 35, 36]]])"
      ]
     },
     "execution_count": 49,
     "metadata": {},
     "output_type": "execute_result"
    }
   ],
   "source": [
    "a3 = np.array([[\n",
    "                [1, 2, 3, 4, 5, 6], \n",
    "                [7, 8, 9, 10, 11, 12], \n",
    "                [13, 14, 15, 16, 17, 18],\n",
    "                \n",
    "                [19, 20, 21, 22, 23, 24], \n",
    "                [25, 26, 27, 28, 29, 30], \n",
    "                [31, 32, 33, 34, 35, 36],\n",
    "    \n",
    "               ]])\n",
    "a3"
   ]
  },
  {
   "cell_type": "code",
   "execution_count": 37,
   "id": "c9e6244c-9f72-4f09-8fae-bdcd49dd735c",
   "metadata": {},
   "outputs": [
    {
     "data": {
      "text/plain": [
       "np.int64(1)"
      ]
     },
     "execution_count": 37,
     "metadata": {},
     "output_type": "execute_result"
    }
   ],
   "source": [
    "a1[0]"
   ]
  },
  {
   "cell_type": "code",
   "execution_count": 46,
   "id": "400c503d-2648-42a8-825c-b518d0b17ea6",
   "metadata": {},
   "outputs": [
    {
     "data": {
      "text/plain": [
       "array([[ 1,  2,  3,  4,  5,  6],\n",
       "       [ 7,  8,  9, 10, 11, 12],\n",
       "       [13, 14, 15, 16, 17, 18],\n",
       "       [19, 20, 21, 22, 23, 24],\n",
       "       [25, 26, 27, 28, 29, 30],\n",
       "       [31, 32, 33, 34, 35, 36]])"
      ]
     },
     "execution_count": 46,
     "metadata": {},
     "output_type": "execute_result"
    }
   ],
   "source": [
    "a3[0]"
   ]
  },
  {
   "cell_type": "code",
   "execution_count": 47,
   "id": "57158089-a31d-4568-bf4a-c7627a0bd0fe",
   "metadata": {},
   "outputs": [
    {
     "data": {
      "text/plain": [
       "array([5., 6., 7., 8.])"
      ]
     },
     "execution_count": 47,
     "metadata": {},
     "output_type": "execute_result"
    }
   ],
   "source": [
    "a2[1]"
   ]
  },
  {
   "cell_type": "code",
   "execution_count": 54,
   "id": "0cc3a210-94bc-4dc4-99a0-6a32c98c52b5",
   "metadata": {},
   "outputs": [
    {
     "data": {
      "text/plain": [
       "array([[[1, 2],\n",
       "        [7, 8]]])"
      ]
     },
     "execution_count": 54,
     "metadata": {},
     "output_type": "execute_result"
    }
   ],
   "source": [
    "a3[:2, :2, :2]"
   ]
  },
  {
   "cell_type": "code",
   "execution_count": 64,
   "id": "4b7c5eda-c68e-489e-b1b1-99b9dab91b7b",
   "metadata": {},
   "outputs": [
    {
     "data": {
      "text/plain": [
       "array([[[[8, 8, 5, 6, 0],\n",
       "         [0, 5, 8, 6, 5],\n",
       "         [0, 5, 7, 3, 2],\n",
       "         [8, 4, 5, 1, 9]],\n",
       "\n",
       "        [[3, 3, 9, 6, 7],\n",
       "         [5, 0, 9, 5, 8],\n",
       "         [1, 8, 4, 0, 4],\n",
       "         [6, 5, 5, 9, 1]],\n",
       "\n",
       "        [[9, 8, 7, 0, 6],\n",
       "         [8, 4, 5, 8, 5],\n",
       "         [1, 0, 9, 2, 8],\n",
       "         [5, 5, 4, 1, 8]]],\n",
       "\n",
       "\n",
       "       [[[0, 5, 3, 1, 0],\n",
       "         [4, 7, 0, 9, 4],\n",
       "         [2, 3, 0, 7, 1],\n",
       "         [3, 9, 2, 2, 6]],\n",
       "\n",
       "        [[3, 4, 1, 3, 1],\n",
       "         [0, 4, 4, 4, 0],\n",
       "         [5, 8, 2, 2, 0],\n",
       "         [9, 4, 1, 3, 2]],\n",
       "\n",
       "        [[6, 2, 7, 5, 8],\n",
       "         [4, 3, 1, 8, 8],\n",
       "         [1, 3, 3, 6, 9],\n",
       "         [4, 8, 8, 9, 2]]]], dtype=int32)"
      ]
     },
     "execution_count": 64,
     "metadata": {},
     "output_type": "execute_result"
    }
   ],
   "source": [
    "a4 = np.random.randint(10, size = (2,3,4,5))\n",
    "a4"
   ]
  },
  {
   "cell_type": "code",
   "execution_count": 63,
   "id": "8216981c-fd48-486d-b55b-a1e5a0226679",
   "metadata": {},
   "outputs": [
    {
     "data": {
      "text/plain": [
       "((1, 3, 4, 5), 4)"
      ]
     },
     "execution_count": 63,
     "metadata": {},
     "output_type": "execute_result"
    }
   ],
   "source": [
    "a4.shape, a4.ndim"
   ]
  },
  {
   "cell_type": "code",
   "execution_count": 86,
   "id": "0c4c2a14-1366-47e5-b935-296a18d027ed",
   "metadata": {},
   "outputs": [
    {
     "data": {
      "text/plain": [
       "array([[[[8, 8],\n",
       "         [0, 5],\n",
       "         [0, 5],\n",
       "         [8, 4]],\n",
       "\n",
       "        [[3, 3],\n",
       "         [5, 0],\n",
       "         [1, 8],\n",
       "         [6, 5]],\n",
       "\n",
       "        [[9, 8],\n",
       "         [8, 4],\n",
       "         [1, 0],\n",
       "         [5, 5]]],\n",
       "\n",
       "\n",
       "       [[[0, 5],\n",
       "         [4, 7],\n",
       "         [2, 3],\n",
       "         [3, 9]],\n",
       "\n",
       "        [[3, 4],\n",
       "         [0, 4],\n",
       "         [5, 8],\n",
       "         [9, 4]],\n",
       "\n",
       "        [[6, 2],\n",
       "         [4, 3],\n",
       "         [1, 3],\n",
       "         [4, 8]]]], dtype=int32)"
      ]
     },
     "execution_count": 86,
     "metadata": {},
     "output_type": "execute_result"
    }
   ],
   "source": [
    "a4[:, :, :, :2]"
   ]
  },
  {
   "cell_type": "markdown",
   "id": "fc075058-7351-4c25-9363-f5c94600742b",
   "metadata": {},
   "source": [
    "# Arithmetic"
   ]
  },
  {
   "cell_type": "code",
   "execution_count": 103,
   "id": "8dfc4f36-45a5-4dff-a9df-c222ce31e3a7",
   "metadata": {},
   "outputs": [
    {
     "data": {
      "text/plain": [
       "array([1., 1., 1., 1., 1.])"
      ]
     },
     "execution_count": 103,
     "metadata": {},
     "output_type": "execute_result"
    }
   ],
   "source": [
    "ones = np.ones(5)\n",
    "ones"
   ]
  },
  {
   "cell_type": "code",
   "execution_count": 104,
   "id": "80487dd2-34b5-4e25-bbe0-8aaaa249550c",
   "metadata": {},
   "outputs": [
    {
     "data": {
      "text/plain": [
       "array([2., 3., 4., 5., 6.])"
      ]
     },
     "execution_count": 104,
     "metadata": {},
     "output_type": "execute_result"
    }
   ],
   "source": [
    "a1 + ones"
   ]
  },
  {
   "cell_type": "code",
   "execution_count": 105,
   "id": "3825b6b1-172b-411b-a935-5f317a7c061c",
   "metadata": {},
   "outputs": [
    {
     "data": {
      "text/plain": [
       "array([0., 1., 2., 3., 4.])"
      ]
     },
     "execution_count": 105,
     "metadata": {},
     "output_type": "execute_result"
    }
   ],
   "source": [
    "a1 - ones"
   ]
  },
  {
   "cell_type": "code",
   "execution_count": 118,
   "id": "f1298074-209b-4181-a468-edd6cd92cd92",
   "metadata": {},
   "outputs": [
    {
     "data": {
      "text/plain": [
       "array([1., 2., 3., 4., 5.])"
      ]
     },
     "execution_count": 118,
     "metadata": {},
     "output_type": "execute_result"
    }
   ],
   "source": [
    "a1 * ones"
   ]
  },
  {
   "cell_type": "code",
   "execution_count": 119,
   "id": "3fa304b0-9f74-47a6-98e8-ab63b1dd5758",
   "metadata": {},
   "outputs": [
    {
     "data": {
      "text/plain": [
       "array([1., 2., 3., 4., 5.])"
      ]
     },
     "execution_count": 119,
     "metadata": {},
     "output_type": "execute_result"
    }
   ],
   "source": [
    "a1 / ones"
   ]
  },
  {
   "cell_type": "code",
   "execution_count": 121,
   "id": "d540877d-970d-43ed-b253-2c102813201e",
   "metadata": {},
   "outputs": [
    {
     "data": {
      "text/plain": [
       "array([ 1,  4,  9, 16, 25])"
      ]
     },
     "execution_count": 121,
     "metadata": {},
     "output_type": "execute_result"
    }
   ],
   "source": [
    "np.square(a1)"
   ]
  },
  {
   "cell_type": "code",
   "execution_count": 122,
   "id": "8fa4ada4-92d9-478c-a504-dc55ec1b9b9a",
   "metadata": {},
   "outputs": [
    {
     "data": {
      "text/plain": [
       "array([2., 3., 4., 5., 6.])"
      ]
     },
     "execution_count": 122,
     "metadata": {},
     "output_type": "execute_result"
    }
   ],
   "source": [
    " np.add(a1, ones)"
   ]
  },
  {
   "cell_type": "markdown",
   "id": "77830556-0670-4719-aa80-27d2a9ec2a03",
   "metadata": {},
   "source": [
    "# Aggregations"
   ]
  },
  {
   "cell_type": "code",
   "execution_count": 124,
   "id": "197473d1-ed70-4a53-a139-b3f11aa6c3ca",
   "metadata": {},
   "outputs": [
    {
     "data": {
      "text/plain": [
       "list"
      ]
     },
     "execution_count": 124,
     "metadata": {},
     "output_type": "execute_result"
    }
   ],
   "source": [
    "list = [1,2,3]\n",
    "type(list)"
   ]
  },
  {
   "cell_type": "code",
   "execution_count": 126,
   "id": "7560606f-99f1-437e-8371-4e89ef234e5f",
   "metadata": {},
   "outputs": [
    {
     "data": {
      "text/plain": [
       "6"
      ]
     },
     "execution_count": 126,
     "metadata": {},
     "output_type": "execute_result"
    }
   ],
   "source": [
    "sum(list)"
   ]
  },
  {
   "cell_type": "code",
   "execution_count": 127,
   "id": "f9fedc95-07e3-484b-84ca-8f13446fe914",
   "metadata": {},
   "outputs": [
    {
     "data": {
      "text/plain": [
       "np.int64(15)"
      ]
     },
     "execution_count": 127,
     "metadata": {},
     "output_type": "execute_result"
    }
   ],
   "source": [
    "sum(a1)"
   ]
  },
  {
   "cell_type": "code",
   "execution_count": 129,
   "id": "7caaf23f-717c-4bff-8b19-d1e53737274b",
   "metadata": {},
   "outputs": [
    {
     "data": {
      "text/plain": [
       "np.int64(15)"
      ]
     },
     "execution_count": 129,
     "metadata": {},
     "output_type": "execute_result"
    }
   ],
   "source": [
    "np.sum(a1)"
   ]
  },
  {
   "cell_type": "markdown",
   "id": "ff22a1e5-3868-4af0-be57-5dff4210f596",
   "metadata": {},
   "source": [
    "# Massive num Array"
   ]
  },
  {
   "cell_type": "code",
   "execution_count": 132,
   "id": "02e28ec8-2844-45ab-b5a1-f97f46a88462",
   "metadata": {},
   "outputs": [
    {
     "data": {
      "text/plain": [
       "10000"
      ]
     },
     "execution_count": 132,
     "metadata": {},
     "output_type": "execute_result"
    }
   ],
   "source": [
    "massive_array = np.random.random(10000)\n",
    "massive_array.size"
   ]
  },
  {
   "cell_type": "code",
   "execution_count": 134,
   "id": "7a2854dc-fd94-4852-92f9-c0de38ef00e0",
   "metadata": {},
   "outputs": [
    {
     "data": {
      "text/plain": [
       "array([0.99848746, 0.53772134, 0.81421841, 0.41270723, 0.78855286,\n",
       "       0.62635318, 0.73539263, 0.69189331, 0.41679352, 0.39724854])"
      ]
     },
     "execution_count": 134,
     "metadata": {},
     "output_type": "execute_result"
    }
   ],
   "source": [
    "massive_array[:10]"
   ]
  },
  {
   "cell_type": "code",
   "execution_count": 136,
   "id": "12cd408a-6338-4a95-8c1b-f0957f7ce361",
   "metadata": {},
   "outputs": [
    {
     "name": "stdout",
     "output_type": "stream",
     "text": [
      "932 μs ± 115 μs per loop (mean ± std. dev. of 7 runs, 100 loops each)\n",
      "10.4 μs ± 632 ns per loop (mean ± std. dev. of 7 runs, 100,000 loops each)\n"
     ]
    }
   ],
   "source": [
    "%timeit sum(massive_array)\n",
    "%timeit np.sum(massive_array)"
   ]
  },
  {
   "cell_type": "code",
   "execution_count": 137,
   "id": "e90d2e6b-45eb-4e29-9732-f173889d7d26",
   "metadata": {},
   "outputs": [
    {
     "data": {
      "text/plain": [
       "array([[1. , 2. , 3. , 4.5],\n",
       "       [5. , 6. , 7. , 8. ]])"
      ]
     },
     "execution_count": 137,
     "metadata": {},
     "output_type": "execute_result"
    }
   ],
   "source": [
    "a2"
   ]
  },
  {
   "cell_type": "code",
   "execution_count": 138,
   "id": "a2baec8a-ab26-455a-b201-232ae2d7abb9",
   "metadata": {},
   "outputs": [
    {
     "data": {
      "text/plain": [
       "np.float64(4.5625)"
      ]
     },
     "execution_count": 138,
     "metadata": {},
     "output_type": "execute_result"
    }
   ],
   "source": [
    "a2.mean()"
   ]
  },
  {
   "cell_type": "code",
   "execution_count": 139,
   "id": "a060abc1-a131-46c4-8a75-15c0584350b9",
   "metadata": {},
   "outputs": [
    {
     "data": {
      "text/plain": [
       "np.float64(4.5625)"
      ]
     },
     "execution_count": 139,
     "metadata": {},
     "output_type": "execute_result"
    }
   ],
   "source": [
    "np.mean(a2)"
   ]
  },
  {
   "cell_type": "code",
   "execution_count": 140,
   "id": "94dd11f0-b7c8-4130-80d1-7c9b07245c6e",
   "metadata": {},
   "outputs": [
    {
     "data": {
      "text/plain": [
       "np.float64(8.0)"
      ]
     },
     "execution_count": 140,
     "metadata": {},
     "output_type": "execute_result"
    }
   ],
   "source": [
    "np.max(a2)"
   ]
  },
  {
   "cell_type": "code",
   "execution_count": 141,
   "id": "5a227141-5eae-43cb-b53f-d22d9957b4d9",
   "metadata": {},
   "outputs": [
    {
     "data": {
      "text/plain": [
       "np.float64(5.21484375)"
      ]
     },
     "execution_count": 141,
     "metadata": {},
     "output_type": "execute_result"
    }
   ],
   "source": [
    "np.var(a2)"
   ]
  },
  {
   "cell_type": "markdown",
   "id": "dc845754-0a71-46ac-baf1-1030ededd7fc",
   "metadata": {},
   "source": [
    "# Demo of std and var"
   ]
  },
  {
   "cell_type": "code",
   "execution_count": 146,
   "id": "759708a5-daeb-4113-aa7c-59a4668a69a2",
   "metadata": {},
   "outputs": [],
   "source": [
    "high_var_array = np.array([1,100,2000,3000])\n",
    "low_var_array = np.array([2,3,5,6,7])"
   ]
  },
  {
   "cell_type": "code",
   "execution_count": 147,
   "id": "8fcac453-430d-4be5-b7b0-734c861ec33e",
   "metadata": {},
   "outputs": [
    {
     "data": {
      "text/plain": [
       "(np.float64(1626237.6875), np.float64(3.44))"
      ]
     },
     "execution_count": 147,
     "metadata": {},
     "output_type": "execute_result"
    }
   ],
   "source": [
    "np.var(high_var_array) , np.var(low_var_array)"
   ]
  },
  {
   "cell_type": "code",
   "execution_count": 148,
   "id": "2b494536-bb47-4dba-88cf-62869bb49916",
   "metadata": {},
   "outputs": [
    {
     "data": {
      "text/plain": [
       "(np.float64(1275.2402469730948), np.float64(1.8547236990991407))"
      ]
     },
     "execution_count": 148,
     "metadata": {},
     "output_type": "execute_result"
    }
   ],
   "source": [
    "np.std(high_var_array), np.std(low_var_array)"
   ]
  },
  {
   "cell_type": "code",
   "execution_count": 149,
   "id": "6cde993f-3eb5-4c7a-9322-6ec0987e7715",
   "metadata": {},
   "outputs": [
    {
     "data": {
      "text/plain": [
       "np.float64(1275.25)"
      ]
     },
     "execution_count": 149,
     "metadata": {},
     "output_type": "execute_result"
    }
   ],
   "source": [
    "np.mean(high_var_array)"
   ]
  },
  {
   "cell_type": "markdown",
   "id": "8372f5a7-9e81-47bd-ab90-67503b06e8ce",
   "metadata": {},
   "source": [
    "# Change the shape of array"
   ]
  },
  {
   "cell_type": "code",
   "execution_count": 163,
   "id": "5963f91a-a7c4-430b-a180-a4af0a372481",
   "metadata": {},
   "outputs": [
    {
     "data": {
      "text/plain": [
       "(2, 4)"
      ]
     },
     "execution_count": 163,
     "metadata": {},
     "output_type": "execute_result"
    }
   ],
   "source": [
    "a2.shape"
   ]
  },
  {
   "cell_type": "code",
   "execution_count": 173,
   "id": "6d292b17-a213-4de4-8ff6-9e261c58b6e5",
   "metadata": {},
   "outputs": [
    {
     "data": {
      "text/plain": [
       "(1, 6, 6)"
      ]
     },
     "execution_count": 173,
     "metadata": {},
     "output_type": "execute_result"
    }
   ],
   "source": [
    "a3.shape"
   ]
  },
  {
   "cell_type": "code",
   "execution_count": 185,
   "id": "51a009ee-e52e-4962-90cf-421adf316941",
   "metadata": {},
   "outputs": [
    {
     "ename": "ValueError",
     "evalue": "cannot reshape array of size 8 into shape (1,6,6)",
     "output_type": "error",
     "traceback": [
      "\u001b[1;31m---------------------------------------------------------------------------\u001b[0m",
      "\u001b[1;31mValueError\u001b[0m                                Traceback (most recent call last)",
      "Cell \u001b[1;32mIn[185], line 1\u001b[0m\n\u001b[1;32m----> 1\u001b[0m new_a2 \u001b[38;5;241m=\u001b[39m \u001b[43ma2\u001b[49m\u001b[38;5;241;43m.\u001b[39;49m\u001b[43mreshape\u001b[49m\u001b[43m(\u001b[49m\u001b[38;5;241;43m1\u001b[39;49m\u001b[43m,\u001b[49m\u001b[38;5;241;43m6\u001b[39;49m\u001b[43m,\u001b[49m\u001b[38;5;241;43m6\u001b[39;49m\u001b[43m)\u001b[49m\n",
      "\u001b[1;31mValueError\u001b[0m: cannot reshape array of size 8 into shape (1,6,6)"
     ]
    }
   ],
   "source": [
    "new_a2 = a2.reshape(1,6,6)"
   ]
  },
  {
   "cell_type": "code",
   "execution_count": 181,
   "id": "48555129-9011-4957-95ea-789d38a027fc",
   "metadata": {},
   "outputs": [
    {
     "data": {
      "text/plain": [
       "array([[[1. ],\n",
       "        [2. ],\n",
       "        [3. ],\n",
       "        [4.5]],\n",
       "\n",
       "       [[5. ],\n",
       "        [6. ],\n",
       "        [7. ],\n",
       "        [8. ]]])"
      ]
     },
     "execution_count": 181,
     "metadata": {},
     "output_type": "execute_result"
    }
   ],
   "source": [
    "new_a2"
   ]
  },
  {
   "cell_type": "code",
   "execution_count": 182,
   "id": "c68dc60d-b04e-4f0c-87de-3d878fb6bae0",
   "metadata": {},
   "outputs": [
    {
     "data": {
      "text/plain": [
       "(2, 4, 1)"
      ]
     },
     "execution_count": 182,
     "metadata": {},
     "output_type": "execute_result"
    }
   ],
   "source": [
    "new_a2.shape"
   ]
  },
  {
   "cell_type": "code",
   "execution_count": 183,
   "id": "c2d03549-633a-414e-bbfb-3e4c7b3a9807",
   "metadata": {},
   "outputs": [
    {
     "ename": "ValueError",
     "evalue": "operands could not be broadcast together with shapes (2,4,1) (1,6,6) ",
     "output_type": "error",
     "traceback": [
      "\u001b[1;31m---------------------------------------------------------------------------\u001b[0m",
      "\u001b[1;31mValueError\u001b[0m                                Traceback (most recent call last)",
      "Cell \u001b[1;32mIn[183], line 1\u001b[0m\n\u001b[1;32m----> 1\u001b[0m \u001b[43mnew_a2\u001b[49m\u001b[43m \u001b[49m\u001b[38;5;241;43m*\u001b[39;49m\u001b[43m \u001b[49m\u001b[43ma3\u001b[49m\n",
      "\u001b[1;31mValueError\u001b[0m: operands could not be broadcast together with shapes (2,4,1) (1,6,6) "
     ]
    }
   ],
   "source": [
    "new_a2 * a3"
   ]
  },
  {
   "cell_type": "markdown",
   "id": "cb9d8793-df39-4398-ac60-a3010455d7e9",
   "metadata": {},
   "source": [
    "# Transpose"
   ]
  },
  {
   "cell_type": "code",
   "execution_count": 187,
   "id": "3a0f4c9b-41a2-4d5e-840d-132f237b243a",
   "metadata": {},
   "outputs": [
    {
     "data": {
      "text/plain": [
       "array([[1. , 5. ],\n",
       "       [2. , 6. ],\n",
       "       [3. , 7. ],\n",
       "       [4.5, 8. ]])"
      ]
     },
     "execution_count": 187,
     "metadata": {},
     "output_type": "execute_result"
    }
   ],
   "source": [
    "a2.T"
   ]
  },
  {
   "cell_type": "code",
   "execution_count": 188,
   "id": "34ccfc1a-678f-468d-b178-157f2c65262e",
   "metadata": {},
   "outputs": [
    {
     "ename": "NameError",
     "evalue": "name 'a' is not defined",
     "output_type": "error",
     "traceback": [
      "\u001b[1;31m---------------------------------------------------------------------------\u001b[0m",
      "\u001b[1;31mNameError\u001b[0m                                 Traceback (most recent call last)",
      "Cell \u001b[1;32mIn[188], line 1\u001b[0m\n\u001b[1;32m----> 1\u001b[0m \u001b[43ma\u001b[49m\u001b[38;5;241m.\u001b[39mshape\n",
      "\u001b[1;31mNameError\u001b[0m: name 'a' is not defined"
     ]
    }
   ],
   "source": [
    "a.shape"
   ]
  },
  {
   "cell_type": "code",
   "execution_count": 189,
   "id": "217406f4-2f0c-493b-a133-3bcf7d94c01b",
   "metadata": {},
   "outputs": [
    {
     "data": {
      "text/plain": [
       "(2, 4)"
      ]
     },
     "execution_count": 189,
     "metadata": {},
     "output_type": "execute_result"
    }
   ],
   "source": [
    "a2.shape"
   ]
  },
  {
   "cell_type": "code",
   "execution_count": 190,
   "id": "e956195c-0753-462d-a8de-bf6f242c0d2e",
   "metadata": {},
   "outputs": [
    {
     "data": {
      "text/plain": [
       "(1, 6, 6)"
      ]
     },
     "execution_count": 190,
     "metadata": {},
     "output_type": "execute_result"
    }
   ],
   "source": [
    "a3.shape"
   ]
  },
  {
   "cell_type": "code",
   "execution_count": null,
   "id": "18c94766-e8c9-4f4d-9df4-ec2da8a66470",
   "metadata": {},
   "outputs": [],
   "source": []
  }
 ],
 "metadata": {
  "kernelspec": {
   "display_name": "Python 3 (ipykernel)",
   "language": "python",
   "name": "python3"
  },
  "language_info": {
   "codemirror_mode": {
    "name": "ipython",
    "version": 3
   },
   "file_extension": ".py",
   "mimetype": "text/x-python",
   "name": "python",
   "nbconvert_exporter": "python",
   "pygments_lexer": "ipython3",
   "version": "3.12.4"
  }
 },
 "nbformat": 4,
 "nbformat_minor": 5
}
